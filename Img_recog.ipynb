{
  "nbformat": 4,
  "nbformat_minor": 0,
  "metadata": {
    "colab": {
      "provenance": [],
      "gpuType": "T4",
      "authorship_tag": "ABX9TyObDoOpCAtmQWOi8/1Wi+zU",
      "include_colab_link": true
    },
    "kernelspec": {
      "name": "python3",
      "display_name": "Python 3"
    },
    "language_info": {
      "name": "python"
    },
    "accelerator": "GPU"
  },
  "cells": [
    {
      "cell_type": "markdown",
      "metadata": {
        "id": "view-in-github",
        "colab_type": "text"
      },
      "source": [
        "<a href=\"https://colab.research.google.com/github/Kabyl-lite/ML_projects/blob/main/Img_recog.ipynb\" target=\"_parent\"><img src=\"https://colab.research.google.com/assets/colab-badge.svg\" alt=\"Open In Colab\"/></a>"
      ]
    },
    {
      "cell_type": "code",
      "execution_count": null,
      "metadata": {
        "id": "bWuPlHo5l9ri"
      },
      "outputs": [],
      "source": [
        "##Keras start\n",
        "from tensorflow.keras.datasets import cifar10\n",
        "\n",
        "from tensorflow.keras.models import Sequential\n",
        "from tensorflow.keras.layers import Conv2D, MaxPool2D, Flatten\n",
        "from tensorflow.keras.layers import Dense, Dropout\n",
        "\n",
        "from tensorflow.keras.optimizers import Adam\n",
        "from tensorflow.keras.utils import to_categorical\n",
        "\n",
        "import tensorflow as tf\n",
        "import matplotlib.pyplot as plt\n",
        "\n",
        "plt.style.use('ggplot')"
      ]
    },
    {
      "cell_type": "code",
      "source": [
        "### Importing dataset\n",
        "(x_train, y_train), (x_test, y_test) = cifar10.load_data()"
      ],
      "metadata": {
        "id": "WTCA6iBkGMI9"
      },
      "execution_count": null,
      "outputs": []
    },
    {
      "cell_type": "code",
      "source": [
        "print(f\"Training images shape:{x_train.shape}\")\n",
        "print(f\"Training labels shape:{y_train.shape}\")\n",
        "print(f\"Testing images shape:{x_test.shape}\")\n",
        "print(f\"Testing labels shape:{x_test.shape}\")"
      ],
      "metadata": {
        "colab": {
          "base_uri": "https://localhost:8080/"
        },
        "id": "KA_csll5Gjib",
        "outputId": "a79463c3-c2c9-4e0f-84a9-9d7917b03dc6"
      },
      "execution_count": null,
      "outputs": [
        {
          "output_type": "stream",
          "name": "stdout",
          "text": [
            "Training images shape:(50000, 32, 32, 3)\n",
            "Training labels shape:(50000, 1)\n",
            "Testing images shape:(10000, 32, 32, 3)\n",
            "Testing labels shape:(10000, 32, 32, 3)\n"
          ]
        }
      ]
    },
    {
      "cell_type": "code",
      "source": [
        "NUM_CLASSES = 10\n",
        "\n",
        "classes = [\"airplane\", \"automobile\", \"bird\", \"cat\", \"deer\", \"dog\", \"frog\", \"horse\", \"ship\", \"truck\"]"
      ],
      "metadata": {
        "id": "YIGcsiD0Hcpi"
      },
      "execution_count": null,
      "outputs": []
    },
    {
      "cell_type": "code",
      "source": [
        "## Visualize the dataset\n",
        "plt.figure(figsize=(6, 6))\n",
        "\n",
        "for i in range(9):\n",
        "  plt.subplot(3, 3, i+1)\n",
        "  plt.imshow(x_train[i])\n",
        "  plt.xlabel(classes[y_train[i].item()])\n",
        "  plt.xticks([])\n",
        "  plt.yticks([])\n",
        "  plt.grid(False)\n",
        "\n",
        "plt.show"
      ],
      "metadata": {
        "colab": {
          "base_uri": "https://localhost:8080/",
          "height": 691
        },
        "id": "LVyJaQINLB6r",
        "outputId": "560b0be7-62d5-4028-b93e-98454aef0844"
      },
      "execution_count": null,
      "outputs": [
        {
          "output_type": "execute_result",
          "data": {
            "text/plain": [
              "<function matplotlib.pyplot.show(close=None, block=None)>"
            ],
            "text/html": [
              "<div style=\"max-width:800px; border: 1px solid var(--colab-border-color);\"><style>\n",
              "      pre.function-repr-contents {\n",
              "        overflow-x: auto;\n",
              "        padding: 8px 12px;\n",
              "        max-height: 500px;\n",
              "      }\n",
              "\n",
              "      pre.function-repr-contents.function-repr-contents-collapsed {\n",
              "        cursor: pointer;\n",
              "        max-height: 100px;\n",
              "      }\n",
              "    </style>\n",
              "    <pre style=\"white-space: initial; background:\n",
              "         var(--colab-secondary-surface-color); padding: 8px 12px;\n",
              "         border-bottom: 1px solid var(--colab-border-color);\"><b>matplotlib.pyplot.show</b><br/>def show(*args, **kwargs)</pre><pre class=\"function-repr-contents function-repr-contents-collapsed\" style=\"\"><a class=\"filepath\" style=\"display:none\" href=\"#\">/usr/local/lib/python3.10/dist-packages/matplotlib/pyplot.py</a>Display all open figures.\n",
              "\n",
              "Parameters\n",
              "----------\n",
              "block : bool, optional\n",
              "    Whether to wait for all figures to be closed before returning.\n",
              "\n",
              "    If `True` block and run the GUI main loop until all figure windows\n",
              "    are closed.\n",
              "\n",
              "    If `False` ensure that all figure windows are displayed and return\n",
              "    immediately.  In this case, you are responsible for ensuring\n",
              "    that the event loop is running to have responsive figures.\n",
              "\n",
              "    Defaults to True in non-interactive mode and to False in interactive\n",
              "    mode (see `.pyplot.isinteractive`).\n",
              "\n",
              "See Also\n",
              "--------\n",
              "ion : Enable interactive mode, which shows / updates the figure after\n",
              "      every plotting command, so that calling ``show()`` is not necessary.\n",
              "ioff : Disable interactive mode.\n",
              "savefig : Save the figure to an image file instead of showing it on screen.\n",
              "\n",
              "Notes\n",
              "-----\n",
              "**Saving figures to file and showing a window at the same time**\n",
              "\n",
              "If you want an image file as well as a user interface window, use\n",
              "`.pyplot.savefig` before `.pyplot.show`. At the end of (a blocking)\n",
              "``show()`` the figure is closed and thus unregistered from pyplot. Calling\n",
              "`.pyplot.savefig` afterwards would save a new and thus empty figure. This\n",
              "limitation of command order does not apply if the show is non-blocking or\n",
              "if you keep a reference to the figure and use `.Figure.savefig`.\n",
              "\n",
              "**Auto-show in jupyter notebooks**\n",
              "\n",
              "The jupyter backends (activated via ``%matplotlib inline``,\n",
              "``%matplotlib notebook``, or ``%matplotlib widget``), call ``show()`` at\n",
              "the end of every cell by default. Thus, you usually don&#x27;t have to call it\n",
              "explicitly there.</pre>\n",
              "      <script>\n",
              "      if (google.colab.kernel.accessAllowed && google.colab.files && google.colab.files.view) {\n",
              "        for (const element of document.querySelectorAll('.filepath')) {\n",
              "          element.style.display = 'block'\n",
              "          element.onclick = (event) => {\n",
              "            event.preventDefault();\n",
              "            event.stopPropagation();\n",
              "            google.colab.files.view(element.textContent, 401);\n",
              "          };\n",
              "        }\n",
              "      }\n",
              "      for (const element of document.querySelectorAll('.function-repr-contents')) {\n",
              "        element.onclick = (event) => {\n",
              "          event.preventDefault();\n",
              "          event.stopPropagation();\n",
              "          element.classList.toggle('function-repr-contents-collapsed');\n",
              "        };\n",
              "      }\n",
              "      </script>\n",
              "      </div>"
            ]
          },
          "metadata": {},
          "execution_count": 34
        },
        {
          "output_type": "display_data",
          "data": {
            "text/plain": [
              "<Figure size 600x600 with 9 Axes>"
            ],
            "image/png": "[encoded data removed]"
          },
          "metadata": {}
        }
      ]
    },
    {
      "cell_type": "code",
      "source": [
        "##normalizing the images\n",
        "x_train = x_train.astype('float32')/ 255\n",
        "x_test = x_test.astype('float32')/ 255"
      ],
      "metadata": {
        "id": "YsO7IFwMLKPS"
      },
      "execution_count": null,
      "outputs": []
    },
    {
      "cell_type": "code",
      "source": [
        "x_train[0].dtype, x_train[0].max(), x_train[0].min()"
      ],
      "metadata": {
        "colab": {
          "base_uri": "https://localhost:8080/"
        },
        "id": "rVzCnSQVo7d2",
        "outputId": "80430ccf-980f-465a-9ac2-f174b5aca4e2"
      },
      "execution_count": null,
      "outputs": [
        {
          "output_type": "execute_result",
          "data": {
            "text/plain": [
              "(dtype('float32'), 1.0, 0.0)"
            ]
          },
          "metadata": {},
          "execution_count": 36
        }
      ]
    },
    {
      "cell_type": "code",
      "source": [
        "y_train = to_categorical(y_train, NUM_CLASSES)\n",
        "y_test= to_categorical(y_test, NUM_CLASSES)"
      ],
      "metadata": {
        "id": "__dEgmttpApn"
      },
      "execution_count": null,
      "outputs": []
    },
    {
      "cell_type": "code",
      "source": [
        "y_train[0:5]"
      ],
      "metadata": {
        "colab": {
          "base_uri": "https://localhost:8080/"
        },
        "id": "VLxNk55uqKRs",
        "outputId": "285b66b4-bd8f-40e2-d83d-f58221d55059"
      },
      "execution_count": null,
      "outputs": [
        {
          "output_type": "execute_result",
          "data": {
            "text/plain": [
              "array([[0., 0., 0., 0., 0., 0., 1., 0., 0., 0.],\n",
              "       [0., 0., 0., 0., 0., 0., 0., 0., 0., 1.],\n",
              "       [0., 0., 0., 0., 0., 0., 0., 0., 0., 1.],\n",
              "       [0., 0., 0., 0., 1., 0., 0., 0., 0., 0.],\n",
              "       [0., 1., 0., 0., 0., 0., 0., 0., 0., 0.]], dtype=float32)"
            ]
          },
          "metadata": {},
          "execution_count": 38
        }
      ]
    },
    {
      "cell_type": "code",
      "source": [
        "model = Sequential()"
      ],
      "metadata": {
        "id": "pFIpWZ7WrPIZ"
      },
      "execution_count": null,
      "outputs": []
    },
    {
      "cell_type": "code",
      "source": [
        "model.add(Conv2D(\n",
        "    filters= 32,\n",
        "    kernel_size= (3, 3),\n",
        "    strides= (1, 1),\n",
        "    padding='same',\n",
        "    activation= 'relu',\n",
        "    input_shape=(32, 32, 3)\n",
        "))"
      ],
      "metadata": {
        "id": "URFzve8qrTiW"
      },
      "execution_count": null,
      "outputs": []
    },
    {
      "cell_type": "code",
      "source": [
        "model.add(\n",
        "    MaxPool2D(pool_size= (2, 2),\n",
        "              padding= 'same',)\n",
        ")"
      ],
      "metadata": {
        "id": "Cg3AghBPralN"
      },
      "execution_count": null,
      "outputs": []
    },
    {
      "cell_type": "code",
      "source": [
        "model.add(\n",
        "    MaxPool2D(pool_size= (2, 2),\n",
        "              padding='same',)\n",
        ")"
      ],
      "metadata": {
        "id": "7xgTyG9prgpf"
      },
      "execution_count": null,
      "outputs": []
    },
    {
      "cell_type": "code",
      "source": [
        "model.summary()"
      ],
      "metadata": {
        "colab": {
          "base_uri": "https://localhost:8080/"
        },
        "id": "_hbmVqderkTF",
        "outputId": "9ebc8b01-70fe-4fa7-a908-e0f4d32cff2f"
      },
      "execution_count": null,
      "outputs": [
        {
          "output_type": "stream",
          "name": "stdout",
          "text": [
            "Model: \"sequential_1\"\n",
            "_________________________________________________________________\n",
            " Layer (type)                Output Shape              Param #   \n",
            "=================================================================\n",
            " conv2d_2 (Conv2D)           (None, 32, 32, 32)        896       \n",
            "                                                                 \n",
            " max_pooling2d_3 (MaxPoolin  (None, 16, 16, 32)        0         \n",
            " g2D)                                                            \n",
            "                                                                 \n",
            " max_pooling2d_4 (MaxPoolin  (None, 8, 8, 32)          0         \n",
            " g2D)                                                            \n",
            "                                                                 \n",
            "=================================================================\n",
            "Total params: 896 (3.50 KB)\n",
            "Trainable params: 896 (3.50 KB)\n",
            "Non-trainable params: 0 (0.00 Byte)\n",
            "_________________________________________________________________\n"
          ]
        }
      ]
    },
    {
      "cell_type": "code",
      "source": [
        "model.add(\n",
        "    MaxPool2D(2, 2))"
      ],
      "metadata": {
        "id": "V6_kN2X_rngY"
      },
      "execution_count": null,
      "outputs": []
    },
    {
      "cell_type": "code",
      "source": [
        "model.summary()"
      ],
      "metadata": {
        "colab": {
          "base_uri": "https://localhost:8080/"
        },
        "id": "_isE2C86rvbZ",
        "outputId": "1f4de393-b776-4e85-d5fb-93eb2b0ed65c"
      },
      "execution_count": null,
      "outputs": [
        {
          "output_type": "stream",
          "name": "stdout",
          "text": [
            "Model: \"sequential_1\"\n",
            "_________________________________________________________________\n",
            " Layer (type)                Output Shape              Param #   \n",
            "=================================================================\n",
            " conv2d_2 (Conv2D)           (None, 32, 32, 32)        896       \n",
            "                                                                 \n",
            " max_pooling2d_3 (MaxPoolin  (None, 16, 16, 32)        0         \n",
            " g2D)                                                            \n",
            "                                                                 \n",
            " max_pooling2d_4 (MaxPoolin  (None, 8, 8, 32)          0         \n",
            " g2D)                                                            \n",
            "                                                                 \n",
            " max_pooling2d_5 (MaxPoolin  (None, 4, 4, 32)          0         \n",
            " g2D)                                                            \n",
            "                                                                 \n",
            "=================================================================\n",
            "Total params: 896 (3.50 KB)\n",
            "Trainable params: 896 (3.50 KB)\n",
            "Non-trainable params: 0 (0.00 Byte)\n",
            "_________________________________________________________________\n"
          ]
        }
      ]
    },
    {
      "cell_type": "code",
      "source": [
        "model.add(Conv2D( 64, (3,3), activation= 'relu', padding='same'))"
      ],
      "metadata": {
        "id": "PGbl-a3wr0dS"
      },
      "execution_count": null,
      "outputs": []
    },
    {
      "cell_type": "code",
      "source": [
        "model.summary()"
      ],
      "metadata": {
        "colab": {
          "base_uri": "https://localhost:8080/"
        },
        "id": "yM_3kG-Mr6YF",
        "outputId": "c2bf2f2d-6009-4f49-cad7-c39174a922c4"
      },
      "execution_count": null,
      "outputs": [
        {
          "output_type": "stream",
          "name": "stdout",
          "text": [
            "Model: \"sequential_1\"\n",
            "_________________________________________________________________\n",
            " Layer (type)                Output Shape              Param #   \n",
            "=================================================================\n",
            " conv2d_2 (Conv2D)           (None, 32, 32, 32)        896       \n",
            "                                                                 \n",
            " max_pooling2d_3 (MaxPoolin  (None, 16, 16, 32)        0         \n",
            " g2D)                                                            \n",
            "                                                                 \n",
            " max_pooling2d_4 (MaxPoolin  (None, 8, 8, 32)          0         \n",
            " g2D)                                                            \n",
            "                                                                 \n",
            " max_pooling2d_5 (MaxPoolin  (None, 4, 4, 32)          0         \n",
            " g2D)                                                            \n",
            "                                                                 \n",
            " conv2d_3 (Conv2D)           (None, 4, 4, 64)          18496     \n",
            "                                                                 \n",
            "=================================================================\n",
            "Total params: 19392 (75.75 KB)\n",
            "Trainable params: 19392 (75.75 KB)\n",
            "Non-trainable params: 0 (0.00 Byte)\n",
            "_________________________________________________________________\n"
          ]
        }
      ]
    },
    {
      "cell_type": "code",
      "source": [
        "model.add(Flatten())"
      ],
      "metadata": {
        "id": "4gqCHWcCsHs4"
      },
      "execution_count": null,
      "outputs": []
    },
    {
      "cell_type": "code",
      "source": [
        "model.summary()"
      ],
      "metadata": {
        "colab": {
          "base_uri": "https://localhost:8080/"
        },
        "id": "WYi7UClNsJDC",
        "outputId": "1377e059-0ef4-4d25-fdc2-d3ac8d309850"
      },
      "execution_count": null,
      "outputs": [
        {
          "output_type": "stream",
          "name": "stdout",
          "text": [
            "Model: \"sequential_1\"\n",
            "_________________________________________________________________\n",
            " Layer (type)                Output Shape              Param #   \n",
            "=================================================================\n",
            " conv2d_2 (Conv2D)           (None, 32, 32, 32)        896       \n",
            "                                                                 \n",
            " max_pooling2d_3 (MaxPoolin  (None, 16, 16, 32)        0         \n",
            " g2D)                                                            \n",
            "                                                                 \n",
            " max_pooling2d_4 (MaxPoolin  (None, 8, 8, 32)          0         \n",
            " g2D)                                                            \n",
            "                                                                 \n",
            " max_pooling2d_5 (MaxPoolin  (None, 4, 4, 32)          0         \n",
            " g2D)                                                            \n",
            "                                                                 \n",
            " conv2d_3 (Conv2D)           (None, 4, 4, 64)          18496     \n",
            "                                                                 \n",
            " flatten_1 (Flatten)         (None, 1024)              0         \n",
            "                                                                 \n",
            "=================================================================\n",
            "Total params: 19392 (75.75 KB)\n",
            "Trainable params: 19392 (75.75 KB)\n",
            "Non-trainable params: 0 (0.00 Byte)\n",
            "_________________________________________________________________\n"
          ]
        }
      ]
    },
    {
      "cell_type": "code",
      "source": [
        "model.layers[-1].output.shape"
      ],
      "metadata": {
        "colab": {
          "base_uri": "https://localhost:8080/"
        },
        "id": "lLEpI564saZm",
        "outputId": "0f6e078e-7c03-402d-cfc0-79ab005de9ac"
      },
      "execution_count": null,
      "outputs": [
        {
          "output_type": "execute_result",
          "data": {
            "text/plain": [
              "TensorShape([None, 1024])"
            ]
          },
          "metadata": {},
          "execution_count": 50
        }
      ]
    },
    {
      "cell_type": "code",
      "source": [
        "model.add(Dense(256, activation= 'relu'))\n",
        "model.add(Dense(NUM_CLASSES, activation = 'softmax'))"
      ],
      "metadata": {
        "id": "0i7BL3kgsi96"
      },
      "execution_count": null,
      "outputs": []
    },
    {
      "cell_type": "code",
      "source": [
        "model.summary()"
      ],
      "metadata": {
        "colab": {
          "base_uri": "https://localhost:8080/"
        },
        "id": "g1jMkfqTsmvk",
        "outputId": "2e8df09d-8298-469f-faed-d16937bd5fb6"
      },
      "execution_count": null,
      "outputs": [
        {
          "output_type": "stream",
          "name": "stdout",
          "text": [
            "Model: \"sequential_1\"\n",
            "_________________________________________________________________\n",
            " Layer (type)                Output Shape              Param #   \n",
            "=================================================================\n",
            " conv2d_2 (Conv2D)           (None, 32, 32, 32)        896       \n",
            "                                                                 \n",
            " max_pooling2d_3 (MaxPoolin  (None, 16, 16, 32)        0         \n",
            " g2D)                                                            \n",
            "                                                                 \n",
            " max_pooling2d_4 (MaxPoolin  (None, 8, 8, 32)          0         \n",
            " g2D)                                                            \n",
            "                                                                 \n",
            " max_pooling2d_5 (MaxPoolin  (None, 4, 4, 32)          0         \n",
            " g2D)                                                            \n",
            "                                                                 \n",
            " conv2d_3 (Conv2D)           (None, 4, 4, 64)          18496     \n",
            "                                                                 \n",
            " flatten_1 (Flatten)         (None, 1024)              0         \n",
            "                                                                 \n",
            " dense_2 (Dense)             (None, 256)               262400    \n",
            "                                                                 \n",
            " dense_3 (Dense)             (None, 10)                2570      \n",
            "                                                                 \n",
            "=================================================================\n",
            "Total params: 284362 (1.08 MB)\n",
            "Trainable params: 284362 (1.08 MB)\n",
            "Non-trainable params: 0 (0.00 Byte)\n",
            "_________________________________________________________________\n"
          ]
        }
      ]
    },
    {
      "cell_type": "code",
      "source": [
        "optimizer= Adam(learning_rate=0.01)"
      ],
      "metadata": {
        "id": "o1_n9mw1srxZ"
      },
      "execution_count": null,
      "outputs": []
    },
    {
      "cell_type": "code",
      "source": [
        "model.compile(\n",
        "    optimizer=optimizer,\n",
        "    loss='categorical_crossentropy',\n",
        "    metrics=['accuracy']\n",
        ")"
      ],
      "metadata": {
        "id": "_mJ_xxJlsvjZ"
      },
      "execution_count": null,
      "outputs": []
    },
    {
      "cell_type": "code",
      "source": [
        "model.summary()"
      ],
      "metadata": {
        "colab": {
          "base_uri": "https://localhost:8080/"
        },
        "id": "_dS0-5QPsxM3",
        "outputId": "a160fbe9-9737-4eb9-b3f9-ac86fa54aeb7"
      },
      "execution_count": null,
      "outputs": [
        {
          "output_type": "stream",
          "name": "stdout",
          "text": [
            "Model: \"sequential_1\"\n",
            "_________________________________________________________________\n",
            " Layer (type)                Output Shape              Param #   \n",
            "=================================================================\n",
            " conv2d_2 (Conv2D)           (None, 32, 32, 32)        896       \n",
            "                                                                 \n",
            " max_pooling2d_3 (MaxPoolin  (None, 16, 16, 32)        0         \n",
            " g2D)                                                            \n",
            "                                                                 \n",
            " max_pooling2d_4 (MaxPoolin  (None, 8, 8, 32)          0         \n",
            " g2D)                                                            \n",
            "                                                                 \n",
            " max_pooling2d_5 (MaxPoolin  (None, 4, 4, 32)          0         \n",
            " g2D)                                                            \n",
            "                                                                 \n",
            " conv2d_3 (Conv2D)           (None, 4, 4, 64)          18496     \n",
            "                                                                 \n",
            " flatten_1 (Flatten)         (None, 1024)              0         \n",
            "                                                                 \n",
            " dense_2 (Dense)             (None, 256)               262400    \n",
            "                                                                 \n",
            " dense_3 (Dense)             (None, 10)                2570      \n",
            "                                                                 \n",
            "=================================================================\n",
            "Total params: 284362 (1.08 MB)\n",
            "Trainable params: 284362 (1.08 MB)\n",
            "Non-trainable params: 0 (0.00 Byte)\n",
            "_________________________________________________________________\n"
          ]
        }
      ]
    },
    {
      "cell_type": "code",
      "source": [
        "NUM_EPOCHS = 50\n",
        "BATCH_SIZE = 128"
      ],
      "metadata": {
        "id": "egY_SO1Ls0cO"
      },
      "execution_count": null,
      "outputs": []
    },
    {
      "cell_type": "code",
      "source": [
        "history = model.fit(\n",
        "    x_train,\n",
        "    y_train,\n",
        "    epochs= NUM_EPOCHS,\n",
        "    batch_size = BATCH_SIZE,\n",
        "    shuffle=True,\n",
        "    validation_data=(x_test,y_test)\n",
        ")"
      ],
      "metadata": {
        "colab": {
          "base_uri": "https://localhost:8080/"
        },
        "id": "iz6yWnWXs7hw",
        "outputId": "d7d83204-7e36-4054-e89f-5c934081f6bf"
      },
      "execution_count": null,
      "outputs": [
        {
          "output_type": "stream",
          "name": "stdout",
          "text": [
            "Epoch 1/50\n",
            "391/391 [==============================] - 5s 9ms/step - loss: 1.7197 - accuracy: 0.3682 - val_loss: 1.4872 - val_accuracy: 0.4651\n",
            "Epoch 2/50\n",
            "391/391 [==============================] - 2s 5ms/step - loss: 1.4088 - accuracy: 0.4933 - val_loss: 1.3545 - val_accuracy: 0.5163\n",
            "Epoch 3/50\n",
            "391/391 [==============================] - 2s 5ms/step - loss: 1.3266 - accuracy: 0.5250 - val_loss: 1.2928 - val_accuracy: 0.5393\n",
            "Epoch 4/50\n",
            "391/391 [==============================] - 2s 5ms/step - loss: 1.2685 - accuracy: 0.5458 - val_loss: 1.2569 - val_accuracy: 0.5551\n",
            "Epoch 5/50\n",
            "391/391 [==============================] - 2s 6ms/step - loss: 1.2321 - accuracy: 0.5625 - val_loss: 1.2820 - val_accuracy: 0.5481\n",
            "Epoch 6/50\n",
            "391/391 [==============================] - 2s 6ms/step - loss: 1.2065 - accuracy: 0.5704 - val_loss: 1.2853 - val_accuracy: 0.5481\n",
            "Epoch 7/50\n",
            "391/391 [==============================] - 2s 6ms/step - loss: 1.1838 - accuracy: 0.5777 - val_loss: 1.2965 - val_accuracy: 0.5423\n",
            "Epoch 8/50\n",
            "391/391 [==============================] - 2s 5ms/step - loss: 1.1610 - accuracy: 0.5895 - val_loss: 1.2169 - val_accuracy: 0.5722\n",
            "Epoch 9/50\n",
            "391/391 [==============================] - 2s 6ms/step - loss: 1.1431 - accuracy: 0.5950 - val_loss: 1.2837 - val_accuracy: 0.5522\n",
            "Epoch 10/50\n",
            "391/391 [==============================] - 2s 5ms/step - loss: 1.1348 - accuracy: 0.5978 - val_loss: 1.2402 - val_accuracy: 0.5621\n",
            "Epoch 11/50\n",
            "391/391 [==============================] - 2s 5ms/step - loss: 1.1243 - accuracy: 0.6027 - val_loss: 1.2656 - val_accuracy: 0.5644\n",
            "Epoch 12/50\n",
            "391/391 [==============================] - 3s 7ms/step - loss: 1.1095 - accuracy: 0.6069 - val_loss: 1.2370 - val_accuracy: 0.5716\n",
            "Epoch 13/50\n",
            "391/391 [==============================] - 2s 6ms/step - loss: 1.0967 - accuracy: 0.6111 - val_loss: 1.2497 - val_accuracy: 0.5674\n",
            "Epoch 14/50\n",
            "391/391 [==============================] - 2s 6ms/step - loss: 1.0929 - accuracy: 0.6095 - val_loss: 1.2429 - val_accuracy: 0.5626\n",
            "Epoch 15/50\n",
            "391/391 [==============================] - 2s 5ms/step - loss: 1.0825 - accuracy: 0.6174 - val_loss: 1.2654 - val_accuracy: 0.5645\n",
            "Epoch 16/50\n",
            "391/391 [==============================] - 2s 5ms/step - loss: 1.0770 - accuracy: 0.6172 - val_loss: 1.3298 - val_accuracy: 0.5495\n",
            "Epoch 17/50\n",
            "391/391 [==============================] - 2s 6ms/step - loss: 1.0671 - accuracy: 0.6227 - val_loss: 1.2808 - val_accuracy: 0.5596\n",
            "Epoch 18/50\n",
            "391/391 [==============================] - 2s 6ms/step - loss: 1.0692 - accuracy: 0.6221 - val_loss: 1.2740 - val_accuracy: 0.5647\n",
            "Epoch 19/50\n",
            "391/391 [==============================] - 2s 5ms/step - loss: 1.0585 - accuracy: 0.6260 - val_loss: 1.2964 - val_accuracy: 0.5615\n",
            "Epoch 20/50\n",
            "391/391 [==============================] - 2s 6ms/step - loss: 1.0514 - accuracy: 0.6294 - val_loss: 1.2483 - val_accuracy: 0.5739\n",
            "Epoch 21/50\n",
            "391/391 [==============================] - 2s 5ms/step - loss: 1.0415 - accuracy: 0.6311 - val_loss: 1.2624 - val_accuracy: 0.5685\n",
            "Epoch 22/50\n",
            "391/391 [==============================] - 2s 5ms/step - loss: 1.0496 - accuracy: 0.6289 - val_loss: 1.2711 - val_accuracy: 0.5701\n",
            "Epoch 23/50\n",
            "391/391 [==============================] - 3s 7ms/step - loss: 1.0305 - accuracy: 0.6354 - val_loss: 1.2656 - val_accuracy: 0.5727\n",
            "Epoch 24/50\n",
            "391/391 [==============================] - 2s 5ms/step - loss: 1.0348 - accuracy: 0.6344 - val_loss: 1.2915 - val_accuracy: 0.5644\n",
            "Epoch 25/50\n",
            "391/391 [==============================] - 2s 6ms/step - loss: 1.0361 - accuracy: 0.6343 - val_loss: 1.2777 - val_accuracy: 0.5711\n",
            "Epoch 26/50\n",
            "391/391 [==============================] - 2s 5ms/step - loss: 1.0221 - accuracy: 0.6393 - val_loss: 1.3028 - val_accuracy: 0.5720\n",
            "Epoch 27/50\n",
            "391/391 [==============================] - 2s 6ms/step - loss: 1.0211 - accuracy: 0.6382 - val_loss: 1.3126 - val_accuracy: 0.5630\n",
            "Epoch 28/50\n",
            "391/391 [==============================] - 3s 7ms/step - loss: 1.0185 - accuracy: 0.6384 - val_loss: 1.3187 - val_accuracy: 0.5644\n",
            "Epoch 29/50\n",
            "391/391 [==============================] - 2s 6ms/step - loss: 1.0181 - accuracy: 0.6399 - val_loss: 1.3131 - val_accuracy: 0.5581\n",
            "Epoch 30/50\n",
            "391/391 [==============================] - 3s 7ms/step - loss: 1.0214 - accuracy: 0.6376 - val_loss: 1.3373 - val_accuracy: 0.5631\n",
            "Epoch 31/50\n",
            "391/391 [==============================] - 2s 5ms/step - loss: 1.0106 - accuracy: 0.6421 - val_loss: 1.2832 - val_accuracy: 0.5714\n",
            "Epoch 32/50\n",
            "391/391 [==============================] - 2s 5ms/step - loss: 1.0113 - accuracy: 0.6422 - val_loss: 1.3362 - val_accuracy: 0.5613\n",
            "Epoch 33/50\n",
            "391/391 [==============================] - 2s 6ms/step - loss: 1.0027 - accuracy: 0.6453 - val_loss: 1.3160 - val_accuracy: 0.5647\n",
            "Epoch 34/50\n",
            "391/391 [==============================] - 3s 6ms/step - loss: 1.0078 - accuracy: 0.6435 - val_loss: 1.3276 - val_accuracy: 0.5617\n",
            "Epoch 35/50\n",
            "391/391 [==============================] - 2s 5ms/step - loss: 0.9943 - accuracy: 0.6478 - val_loss: 1.3466 - val_accuracy: 0.5613\n",
            "Epoch 36/50\n",
            "391/391 [==============================] - 2s 5ms/step - loss: 0.9998 - accuracy: 0.6468 - val_loss: 1.3568 - val_accuracy: 0.5580\n",
            "Epoch 37/50\n",
            "391/391 [==============================] - 2s 5ms/step - loss: 0.9945 - accuracy: 0.6455 - val_loss: 1.3283 - val_accuracy: 0.5713\n",
            "Epoch 38/50\n",
            "391/391 [==============================] - 2s 5ms/step - loss: 0.9984 - accuracy: 0.6458 - val_loss: 1.3450 - val_accuracy: 0.5571\n",
            "Epoch 39/50\n",
            "391/391 [==============================] - 3s 7ms/step - loss: 0.9852 - accuracy: 0.6525 - val_loss: 1.3373 - val_accuracy: 0.5640\n",
            "Epoch 40/50\n",
            "391/391 [==============================] - 2s 5ms/step - loss: 0.9967 - accuracy: 0.6473 - val_loss: 1.3873 - val_accuracy: 0.5445\n",
            "Epoch 41/50\n",
            "391/391 [==============================] - 2s 5ms/step - loss: 0.9799 - accuracy: 0.6534 - val_loss: 1.3123 - val_accuracy: 0.5708\n",
            "Epoch 42/50\n",
            "391/391 [==============================] - 2s 5ms/step - loss: 0.9797 - accuracy: 0.6537 - val_loss: 1.3427 - val_accuracy: 0.5696\n",
            "Epoch 43/50\n",
            "391/391 [==============================] - 2s 5ms/step - loss: 0.9875 - accuracy: 0.6501 - val_loss: 1.3747 - val_accuracy: 0.5557\n",
            "Epoch 44/50\n",
            "391/391 [==============================] - 2s 6ms/step - loss: 0.9839 - accuracy: 0.6500 - val_loss: 1.3670 - val_accuracy: 0.5655\n",
            "Epoch 45/50\n",
            "391/391 [==============================] - 3s 7ms/step - loss: 0.9758 - accuracy: 0.6537 - val_loss: 1.3689 - val_accuracy: 0.5649\n",
            "Epoch 46/50\n",
            "391/391 [==============================] - 2s 5ms/step - loss: 0.9743 - accuracy: 0.6548 - val_loss: 1.3702 - val_accuracy: 0.5587\n",
            "Epoch 47/50\n",
            "391/391 [==============================] - 2s 5ms/step - loss: 0.9729 - accuracy: 0.6546 - val_loss: 1.3652 - val_accuracy: 0.5615\n",
            "Epoch 48/50\n",
            "391/391 [==============================] - 2s 6ms/step - loss: 0.9694 - accuracy: 0.6572 - val_loss: 1.3256 - val_accuracy: 0.5653\n",
            "Epoch 49/50\n",
            "391/391 [==============================] - 2s 5ms/step - loss: 0.9731 - accuracy: 0.6556 - val_loss: 1.3732 - val_accuracy: 0.5657\n",
            "Epoch 50/50\n",
            "391/391 [==============================] - 3s 7ms/step - loss: 0.9707 - accuracy: 0.6566 - val_loss: 1.3377 - val_accuracy: 0.5707\n"
          ]
        }
      ]
    },
    {
      "cell_type": "code",
      "source": [
        "def plot_history(history):\n",
        "  fig=plt.figure(figsize=(10,4))\n",
        "  plt.subplot(1,2,1)\n",
        "  plt.plot(history.history['accuracy'])\n",
        "  plt.plot(history.history['val_accuracy'])\n",
        "  plt.title('Accuracy of model')\n",
        "  plt.xlabel(\"Epochs\")\n",
        "  plt.ylabel('Accuracy')\n",
        "  plt.grid(False)\n",
        "  plt.legend(['train','test'],loc='lower right')\n",
        "\n",
        "  plt.subplot(1,2,2)\n",
        "  plt.plot(history.history['loss'])\n",
        "  plt.plot(history.history['val_loss'])\n",
        "  plt.title('Loss of model')\n",
        "  plt.xlabel(\"Epochs\")\n",
        "  plt.ylabel('Loss')\n",
        "  plt.grid(False)\n",
        "  plt.legend(['train','test'],loc='upper right')\n",
        "\n",
        "\n",
        "  plt.tight_layout()\n",
        "  fig.show()"
      ],
      "metadata": {
        "id": "BBo2PucmwjIc"
      },
      "execution_count": null,
      "outputs": []
    },
    {
      "cell_type": "code",
      "source": [
        "plot_history(history)"
      ],
      "metadata": {
        "colab": {
          "base_uri": "https://localhost:8080/",
          "height": 407
        },
        "id": "2-hMQLbRuzok",
        "outputId": "7d73d580-d13f-4663-ac95-80568604cac0"
      },
      "execution_count": null,
      "outputs": [
        {
          "output_type": "display_data",
          "data": {
            "text/plain": [
              "<Figure size 1000x400 with 2 Axes>"
            ],
            "image/png": "[encoded data removed]"
          },
          "metadata": {}
        }
      ]
    },
    {
      "cell_type": "code",
      "source": [
        "model2 = Sequential()"
      ],
      "metadata": {
        "id": "x1BvwO1nxJxL"
      },
      "execution_count": null,
      "outputs": []
    },
    {
      "cell_type": "code",
      "source": [
        "model2.add(Conv2D(32, (3, 3), padding='same', activation='relu', input_shape=(32, 32, 3)))\n",
        "model2.add(MaxPool2D((2, 2)))"
      ],
      "metadata": {
        "id": "4-wvkriwvAAV"
      },
      "execution_count": null,
      "outputs": []
    },
    {
      "cell_type": "code",
      "source": [
        "model2.add(Conv2D(64, (3, 3), padding = 'same', activation= 'relu'))\n",
        "model2.add(MaxPool2D((2, 2)))\n",
        "model2.add(Dropout(0.3))"
      ],
      "metadata": {
        "id": "lAw-4sTovC5Q"
      },
      "execution_count": null,
      "outputs": []
    },
    {
      "cell_type": "code",
      "source": [
        "model2.add(Conv2D(64, (3, 3), padding = 'same', activation= 'relu'))\n",
        "model2.add(MaxPool2D((2, 2)))\n",
        "model2.add(Dropout(0.3))"
      ],
      "metadata": {
        "id": "IczbashQvEfy"
      },
      "execution_count": null,
      "outputs": []
    },
    {
      "cell_type": "code",
      "source": [
        "model2.add(Flatten())\n",
        "\n",
        "model.add(Dense(256, activation= 'relu'))\n",
        "model2.add(Dropout(0.3))\n",
        "\n",
        "model2.add(Dense(NUM_CLASSES, activation='softmax'))"
      ],
      "metadata": {
        "id": "RewQjjGLvGRE"
      },
      "execution_count": null,
      "outputs": []
    },
    {
      "cell_type": "code",
      "source": [
        "model2.summary()"
      ],
      "metadata": {
        "colab": {
          "base_uri": "https://localhost:8080/"
        },
        "id": "KqdYR4JfvKYN",
        "outputId": "08b6266c-332a-435b-98bb-e0a0232dbd62"
      },
      "execution_count": null,
      "outputs": [
        {
          "output_type": "stream",
          "name": "stdout",
          "text": [
            "Model: \"sequential_2\"\n",
            "_________________________________________________________________\n",
            " Layer (type)                Output Shape              Param #   \n",
            "=================================================================\n",
            " conv2d_4 (Conv2D)           (None, 32, 32, 32)        896       \n",
            "                                                                 \n",
            " max_pooling2d_6 (MaxPoolin  (None, 16, 16, 32)        0         \n",
            " g2D)                                                            \n",
            "                                                                 \n",
            " conv2d_5 (Conv2D)           (None, 16, 16, 32)        9248      \n",
            "                                                                 \n",
            " max_pooling2d_7 (MaxPoolin  (None, 8, 8, 32)          0         \n",
            " g2D)                                                            \n",
            "                                                                 \n",
            " conv2d_6 (Conv2D)           (None, 8, 8, 64)          18496     \n",
            "                                                                 \n",
            " max_pooling2d_8 (MaxPoolin  (None, 4, 4, 64)          0         \n",
            " g2D)                                                            \n",
            "                                                                 \n",
            " dropout (Dropout)           (None, 4, 4, 64)          0         \n",
            "                                                                 \n",
            " conv2d_7 (Conv2D)           (None, 4, 4, 64)          36928     \n",
            "                                                                 \n",
            " max_pooling2d_9 (MaxPoolin  (None, 2, 2, 64)          0         \n",
            " g2D)                                                            \n",
            "                                                                 \n",
            " dropout_1 (Dropout)         (None, 2, 2, 64)          0         \n",
            "                                                                 \n",
            " flatten_2 (Flatten)         (None, 256)               0         \n",
            "                                                                 \n",
            " dropout_2 (Dropout)         (None, 256)               0         \n",
            "                                                                 \n",
            " dense_5 (Dense)             (None, 10)                2570      \n",
            "                                                                 \n",
            "=================================================================\n",
            "Total params: 68138 (266.16 KB)\n",
            "Trainable params: 68138 (266.16 KB)\n",
            "Non-trainable params: 0 (0.00 Byte)\n",
            "_________________________________________________________________\n"
          ]
        }
      ]
    },
    {
      "cell_type": "code",
      "source": [
        "from tensorflow.keras.callbacks import LearningRateScheduler"
      ],
      "metadata": {
        "id": "drZUslcOvLq3"
      },
      "execution_count": null,
      "outputs": []
    },
    {
      "cell_type": "code",
      "source": [
        "def simple_decay(epoch, lr):\n",
        "    if epoch < 30:\n",
        "        lrate = lr\n",
        "    elif epoch < 60:\n",
        "        lrate = 0.0005\n",
        "    else:\n",
        "        lrate =  0.0001\n",
        "    return lrate"
      ],
      "metadata": {
        "id": "Mm6dX_SvvPrN"
      },
      "execution_count": null,
      "outputs": []
    },
    {
      "cell_type": "code",
      "source": [
        "scheduler = LearningRateScheduler(simple_decay)"
      ],
      "metadata": {
        "id": "JzLErJ8jvSXW"
      },
      "execution_count": null,
      "outputs": []
    },
    {
      "cell_type": "code",
      "source": [
        "callbacks= [scheduler]"
      ],
      "metadata": {
        "id": "3jIB7oMLvV2d"
      },
      "execution_count": null,
      "outputs": []
    },
    {
      "cell_type": "code",
      "source": [
        "optimizer= Adam(learning_rate=0.0001)"
      ],
      "metadata": {
        "id": "iZBbeOOCvXT7"
      },
      "execution_count": null,
      "outputs": []
    },
    {
      "cell_type": "code",
      "source": [
        "model2.compile(\n",
        "    optimizer= optimizer,\n",
        "    loss= 'categorical_crossentropy',\n",
        "    metrics=['accuracy']\n",
        ")"
      ],
      "metadata": {
        "id": "fR7G4S1qvYvq"
      },
      "execution_count": null,
      "outputs": []
    },
    {
      "cell_type": "code",
      "source": [
        "history2 = model2.fit(\n",
        "    x_train,\n",
        "    y_train,\n",
        "    epochs=100,\n",
        "    shuffle=True,\n",
        "    validation_data=(x_test,y_test),\n",
        "    callbacks=callbacks\n",
        ")"
      ],
      "metadata": {
        "colab": {
          "base_uri": "https://localhost:8080/"
        },
        "id": "bBjQc_ZevagZ",
        "outputId": "05ae6a42-7b0b-4c1a-d3fb-de714d5ced86"
      },
      "execution_count": null,
      "outputs": [
        {
          "output_type": "stream",
          "name": "stdout",
          "text": [
            "Epoch 1/100\n",
            "1563/1563 [==============================] - 9s 6ms/step - loss: 0.5260 - accuracy: 0.8135 - val_loss: 0.6005 - val_accuracy: 0.7932 - lr: 1.0000e-04\n",
            "Epoch 2/100\n",
            "1563/1563 [==============================] - 10s 6ms/step - loss: 0.5259 - accuracy: 0.8132 - val_loss: 0.6004 - val_accuracy: 0.7951 - lr: 1.0000e-04\n",
            "Epoch 3/100\n",
            "1563/1563 [==============================] - 15s 9ms/step - loss: 0.5238 - accuracy: 0.8140 - val_loss: 0.6057 - val_accuracy: 0.7935 - lr: 1.0000e-04\n",
            "Epoch 4/100\n",
            "1563/1563 [==============================] - 9s 6ms/step - loss: 0.5241 - accuracy: 0.8150 - val_loss: 0.5999 - val_accuracy: 0.7946 - lr: 1.0000e-04\n",
            "Epoch 5/100\n",
            "1563/1563 [==============================] - 9s 6ms/step - loss: 0.5224 - accuracy: 0.8143 - val_loss: 0.6019 - val_accuracy: 0.7931 - lr: 1.0000e-04\n",
            "Epoch 6/100\n",
            "1563/1563 [==============================] - 9s 6ms/step - loss: 0.5260 - accuracy: 0.8142 - val_loss: 0.6005 - val_accuracy: 0.7953 - lr: 1.0000e-04\n",
            "Epoch 7/100\n",
            "1563/1563 [==============================] - 8s 5ms/step - loss: 0.5211 - accuracy: 0.8146 - val_loss: 0.6080 - val_accuracy: 0.7907 - lr: 1.0000e-04\n",
            "Epoch 8/100\n",
            "1563/1563 [==============================] - 9s 6ms/step - loss: 0.5201 - accuracy: 0.8151 - val_loss: 0.6001 - val_accuracy: 0.7926 - lr: 1.0000e-04\n",
            "Epoch 9/100\n",
            "1563/1563 [==============================] - 9s 6ms/step - loss: 0.5229 - accuracy: 0.8154 - val_loss: 0.6000 - val_accuracy: 0.7938 - lr: 1.0000e-04\n",
            "Epoch 10/100\n",
            "1563/1563 [==============================] - 9s 6ms/step - loss: 0.5155 - accuracy: 0.8178 - val_loss: 0.6020 - val_accuracy: 0.7925 - lr: 1.0000e-04\n",
            "Epoch 11/100\n",
            "1563/1563 [==============================] - 9s 6ms/step - loss: 0.5206 - accuracy: 0.8169 - val_loss: 0.6001 - val_accuracy: 0.7925 - lr: 1.0000e-04\n",
            "Epoch 12/100\n",
            "1563/1563 [==============================] - 10s 7ms/step - loss: 0.5174 - accuracy: 0.8161 - val_loss: 0.5992 - val_accuracy: 0.7934 - lr: 1.0000e-04\n",
            "Epoch 13/100\n",
            "1563/1563 [==============================] - 9s 6ms/step - loss: 0.5143 - accuracy: 0.8190 - val_loss: 0.6059 - val_accuracy: 0.7880 - lr: 1.0000e-04\n",
            "Epoch 14/100\n",
            "1563/1563 [==============================] - 9s 6ms/step - loss: 0.5149 - accuracy: 0.8176 - val_loss: 0.5989 - val_accuracy: 0.7935 - lr: 1.0000e-04\n",
            "Epoch 15/100\n",
            "1563/1563 [==============================] - 8s 5ms/step - loss: 0.5105 - accuracy: 0.8196 - val_loss: 0.5972 - val_accuracy: 0.7970 - lr: 1.0000e-04\n",
            "Epoch 16/100\n",
            "1563/1563 [==============================] - 10s 6ms/step - loss: 0.5107 - accuracy: 0.8186 - val_loss: 0.6098 - val_accuracy: 0.7905 - lr: 1.0000e-04\n",
            "Epoch 17/100\n",
            "1563/1563 [==============================] - 9s 6ms/step - loss: 0.5086 - accuracy: 0.8191 - val_loss: 0.5993 - val_accuracy: 0.7949 - lr: 1.0000e-04\n",
            "Epoch 18/100\n",
            "1563/1563 [==============================] - 9s 6ms/step - loss: 0.5111 - accuracy: 0.8191 - val_loss: 0.6002 - val_accuracy: 0.7926 - lr: 1.0000e-04\n",
            "Epoch 19/100\n",
            "1563/1563 [==============================] - 9s 6ms/step - loss: 0.5098 - accuracy: 0.8180 - val_loss: 0.6129 - val_accuracy: 0.7897 - lr: 1.0000e-04\n",
            "Epoch 20/100\n",
            "1563/1563 [==============================] - 9s 6ms/step - loss: 0.5061 - accuracy: 0.8197 - val_loss: 0.5992 - val_accuracy: 0.7947 - lr: 1.0000e-04\n",
            "Epoch 21/100\n",
            "1563/1563 [==============================] - 10s 6ms/step - loss: 0.5046 - accuracy: 0.8201 - val_loss: 0.5971 - val_accuracy: 0.7972 - lr: 1.0000e-04\n",
            "Epoch 22/100\n",
            "1563/1563 [==============================] - 10s 6ms/step - loss: 0.5115 - accuracy: 0.8196 - val_loss: 0.6055 - val_accuracy: 0.7928 - lr: 1.0000e-04\n",
            "Epoch 23/100\n",
            "1563/1563 [==============================] - 9s 6ms/step - loss: 0.5054 - accuracy: 0.8210 - val_loss: 0.5967 - val_accuracy: 0.7957 - lr: 1.0000e-04\n",
            "Epoch 24/100\n",
            "1563/1563 [==============================] - 8s 5ms/step - loss: 0.5095 - accuracy: 0.8204 - val_loss: 0.5980 - val_accuracy: 0.7930 - lr: 1.0000e-04\n",
            "Epoch 25/100\n",
            "1563/1563 [==============================] - 9s 6ms/step - loss: 0.5031 - accuracy: 0.8219 - val_loss: 0.5936 - val_accuracy: 0.7968 - lr: 1.0000e-04\n",
            "Epoch 26/100\n",
            "1563/1563 [==============================] - 9s 6ms/step - loss: 0.5046 - accuracy: 0.8214 - val_loss: 0.6006 - val_accuracy: 0.7937 - lr: 1.0000e-04\n",
            "Epoch 27/100\n",
            "1563/1563 [==============================] - 8s 5ms/step - loss: 0.5034 - accuracy: 0.8219 - val_loss: 0.5949 - val_accuracy: 0.7968 - lr: 1.0000e-04\n",
            "Epoch 28/100\n",
            "1563/1563 [==============================] - 9s 6ms/step - loss: 0.5002 - accuracy: 0.8232 - val_loss: 0.6036 - val_accuracy: 0.7948 - lr: 1.0000e-04\n",
            "Epoch 29/100\n",
            "1563/1563 [==============================] - 9s 6ms/step - loss: 0.5053 - accuracy: 0.8204 - val_loss: 0.5936 - val_accuracy: 0.7974 - lr: 1.0000e-04\n",
            "Epoch 30/100\n",
            "1563/1563 [==============================] - 9s 6ms/step - loss: 0.5011 - accuracy: 0.8231 - val_loss: 0.6011 - val_accuracy: 0.7947 - lr: 1.0000e-04\n",
            "Epoch 31/100\n",
            "1563/1563 [==============================] - 9s 6ms/step - loss: 0.5887 - accuracy: 0.7924 - val_loss: 0.6477 - val_accuracy: 0.7782 - lr: 5.0000e-04\n",
            "Epoch 32/100\n",
            "1563/1563 [==============================] - 9s 5ms/step - loss: 0.6012 - accuracy: 0.7887 - val_loss: 0.6511 - val_accuracy: 0.7835 - lr: 5.0000e-04\n",
            "Epoch 33/100\n",
            "1563/1563 [==============================] - 10s 6ms/step - loss: 0.5966 - accuracy: 0.7914 - val_loss: 0.6495 - val_accuracy: 0.7799 - lr: 5.0000e-04\n",
            "Epoch 34/100\n",
            "1563/1563 [==============================] - 9s 6ms/step - loss: 0.5976 - accuracy: 0.7891 - val_loss: 0.6309 - val_accuracy: 0.7795 - lr: 5.0000e-04\n",
            "Epoch 35/100\n",
            "1563/1563 [==============================] - 9s 6ms/step - loss: 0.5975 - accuracy: 0.7901 - val_loss: 0.6409 - val_accuracy: 0.7781 - lr: 5.0000e-04\n",
            "Epoch 36/100\n",
            "1563/1563 [==============================] - 10s 6ms/step - loss: 0.5895 - accuracy: 0.7918 - val_loss: 0.6773 - val_accuracy: 0.7680 - lr: 5.0000e-04\n",
            "Epoch 37/100\n",
            "1563/1563 [==============================] - 9s 6ms/step - loss: 0.5896 - accuracy: 0.7924 - val_loss: 0.6331 - val_accuracy: 0.7816 - lr: 5.0000e-04\n",
            "Epoch 38/100\n",
            "1563/1563 [==============================] - 9s 6ms/step - loss: 0.5955 - accuracy: 0.7885 - val_loss: 0.6590 - val_accuracy: 0.7729 - lr: 5.0000e-04\n",
            "Epoch 39/100\n",
            "1563/1563 [==============================] - 9s 6ms/step - loss: 0.5904 - accuracy: 0.7925 - val_loss: 0.6492 - val_accuracy: 0.7765 - lr: 5.0000e-04\n",
            "Epoch 40/100\n",
            "1563/1563 [==============================] - 9s 6ms/step - loss: 0.5915 - accuracy: 0.7915 - val_loss: 0.6271 - val_accuracy: 0.7867 - lr: 5.0000e-04\n",
            "Epoch 41/100\n",
            "1563/1563 [==============================] - 10s 6ms/step - loss: 0.5923 - accuracy: 0.7918 - val_loss: 0.6406 - val_accuracy: 0.7798 - lr: 5.0000e-04\n",
            "Epoch 42/100\n",
            "1563/1563 [==============================] - 9s 6ms/step - loss: 0.5905 - accuracy: 0.7912 - val_loss: 0.6493 - val_accuracy: 0.7772 - lr: 5.0000e-04\n",
            "Epoch 43/100\n",
            "1563/1563 [==============================] - 9s 6ms/step - loss: 0.5872 - accuracy: 0.7940 - val_loss: 0.6533 - val_accuracy: 0.7786 - lr: 5.0000e-04\n",
            "Epoch 44/100\n",
            "1563/1563 [==============================] - 9s 6ms/step - loss: 0.5826 - accuracy: 0.7929 - val_loss: 0.6345 - val_accuracy: 0.7859 - lr: 5.0000e-04\n",
            "Epoch 45/100\n",
            "1563/1563 [==============================] - 9s 6ms/step - loss: 0.5786 - accuracy: 0.7939 - val_loss: 0.6352 - val_accuracy: 0.7796 - lr: 5.0000e-04\n",
            "Epoch 46/100\n",
            "1563/1563 [==============================] - 9s 6ms/step - loss: 0.5761 - accuracy: 0.7963 - val_loss: 0.6414 - val_accuracy: 0.7784 - lr: 5.0000e-04\n",
            "Epoch 47/100\n",
            "1563/1563 [==============================] - 9s 6ms/step - loss: 0.5738 - accuracy: 0.7987 - val_loss: 0.6324 - val_accuracy: 0.7824 - lr: 5.0000e-04\n",
            "Epoch 48/100\n",
            "1563/1563 [==============================] - 8s 5ms/step - loss: 0.5714 - accuracy: 0.8003 - val_loss: 0.6196 - val_accuracy: 0.7872 - lr: 5.0000e-04\n",
            "Epoch 49/100\n",
            "1563/1563 [==============================] - 9s 6ms/step - loss: 0.5763 - accuracy: 0.7981 - val_loss: 0.6526 - val_accuracy: 0.7771 - lr: 5.0000e-04\n",
            "Epoch 50/100\n",
            "1563/1563 [==============================] - 9s 6ms/step - loss: 0.5743 - accuracy: 0.7962 - val_loss: 0.6315 - val_accuracy: 0.7872 - lr: 5.0000e-04\n",
            "Epoch 51/100\n",
            "1563/1563 [==============================] - 8s 5ms/step - loss: 0.5699 - accuracy: 0.7972 - val_loss: 0.6464 - val_accuracy: 0.7801 - lr: 5.0000e-04\n",
            "Epoch 52/100\n",
            "1563/1563 [==============================] - 9s 6ms/step - loss: 0.5763 - accuracy: 0.7981 - val_loss: 0.6544 - val_accuracy: 0.7755 - lr: 5.0000e-04\n",
            "Epoch 53/100\n",
            "1563/1563 [==============================] - 9s 6ms/step - loss: 0.5699 - accuracy: 0.7978 - val_loss: 0.6390 - val_accuracy: 0.7837 - lr: 5.0000e-04\n",
            "Epoch 54/100\n",
            "1563/1563 [==============================] - 9s 6ms/step - loss: 0.5640 - accuracy: 0.8011 - val_loss: 0.6357 - val_accuracy: 0.7866 - lr: 5.0000e-04\n",
            "Epoch 55/100\n",
            "1563/1563 [==============================] - 9s 6ms/step - loss: 0.5622 - accuracy: 0.8024 - val_loss: 0.6602 - val_accuracy: 0.7768 - lr: 5.0000e-04\n",
            "Epoch 56/100\n",
            "1563/1563 [==============================] - 10s 6ms/step - loss: 0.5604 - accuracy: 0.8005 - val_loss: 0.6206 - val_accuracy: 0.7879 - lr: 5.0000e-04\n",
            "Epoch 57/100\n",
            "1563/1563 [==============================] - 9s 6ms/step - loss: 0.5675 - accuracy: 0.7980 - val_loss: 0.6244 - val_accuracy: 0.7875 - lr: 5.0000e-04\n",
            "Epoch 58/100\n",
            "1563/1563 [==============================] - 9s 6ms/step - loss: 0.5557 - accuracy: 0.8049 - val_loss: 0.6832 - val_accuracy: 0.7709 - lr: 5.0000e-04\n",
            "Epoch 59/100\n",
            "1563/1563 [==============================] - 9s 6ms/step - loss: 0.5647 - accuracy: 0.7992 - val_loss: 0.6423 - val_accuracy: 0.7800 - lr: 5.0000e-04\n",
            "Epoch 60/100\n",
            "1563/1563 [==============================] - 11s 7ms/step - loss: 0.5553 - accuracy: 0.8030 - val_loss: 0.6327 - val_accuracy: 0.7826 - lr: 5.0000e-04\n",
            "Epoch 61/100\n",
            "1563/1563 [==============================] - 10s 6ms/step - loss: 0.4863 - accuracy: 0.8290 - val_loss: 0.5967 - val_accuracy: 0.7975 - lr: 1.0000e-04\n",
            "Epoch 62/100\n",
            "1563/1563 [==============================] - 9s 6ms/step - loss: 0.4819 - accuracy: 0.8293 - val_loss: 0.5991 - val_accuracy: 0.7950 - lr: 1.0000e-04\n",
            "Epoch 63/100\n",
            "1563/1563 [==============================] - 9s 6ms/step - loss: 0.4749 - accuracy: 0.8312 - val_loss: 0.5942 - val_accuracy: 0.8021 - lr: 1.0000e-04\n",
            "Epoch 64/100\n",
            "1563/1563 [==============================] - 9s 6ms/step - loss: 0.4734 - accuracy: 0.8332 - val_loss: 0.5967 - val_accuracy: 0.7984 - lr: 1.0000e-04\n",
            "Epoch 65/100\n",
            "1563/1563 [==============================] - 9s 6ms/step - loss: 0.4662 - accuracy: 0.8337 - val_loss: 0.6022 - val_accuracy: 0.7930 - lr: 1.0000e-04\n",
            "Epoch 66/100\n",
            "1563/1563 [==============================] - 9s 5ms/step - loss: 0.4629 - accuracy: 0.8355 - val_loss: 0.5999 - val_accuracy: 0.7971 - lr: 1.0000e-04\n",
            "Epoch 67/100\n",
            "1563/1563 [==============================] - 9s 6ms/step - loss: 0.4627 - accuracy: 0.8356 - val_loss: 0.5930 - val_accuracy: 0.8024 - lr: 1.0000e-04\n",
            "Epoch 68/100\n",
            "1563/1563 [==============================] - 14s 9ms/step - loss: 0.4648 - accuracy: 0.8359 - val_loss: 0.5918 - val_accuracy: 0.7989 - lr: 1.0000e-04\n",
            "Epoch 69/100\n",
            "1563/1563 [==============================] - 9s 6ms/step - loss: 0.4626 - accuracy: 0.8361 - val_loss: 0.6087 - val_accuracy: 0.7950 - lr: 1.0000e-04\n",
            "Epoch 70/100\n",
            "1563/1563 [==============================] - 9s 6ms/step - loss: 0.4601 - accuracy: 0.8372 - val_loss: 0.5990 - val_accuracy: 0.7965 - lr: 1.0000e-04\n",
            "Epoch 71/100\n",
            "1563/1563 [==============================] - 9s 6ms/step - loss: 0.4581 - accuracy: 0.8388 - val_loss: 0.6039 - val_accuracy: 0.7933 - lr: 1.0000e-04\n",
            "Epoch 72/100\n",
            "1563/1563 [==============================] - 8s 5ms/step - loss: 0.4579 - accuracy: 0.8375 - val_loss: 0.6045 - val_accuracy: 0.7977 - lr: 1.0000e-04\n",
            "Epoch 73/100\n",
            "1563/1563 [==============================] - 9s 5ms/step - loss: 0.4570 - accuracy: 0.8383 - val_loss: 0.5971 - val_accuracy: 0.8002 - lr: 1.0000e-04\n",
            "Epoch 74/100\n",
            "1563/1563 [==============================] - 9s 6ms/step - loss: 0.4550 - accuracy: 0.8379 - val_loss: 0.5991 - val_accuracy: 0.8010 - lr: 1.0000e-04\n",
            "Epoch 75/100\n",
            "1563/1563 [==============================] - 9s 6ms/step - loss: 0.4539 - accuracy: 0.8392 - val_loss: 0.5979 - val_accuracy: 0.7995 - lr: 1.0000e-04\n",
            "Epoch 76/100\n",
            "1563/1563 [==============================] - 8s 5ms/step - loss: 0.4550 - accuracy: 0.8393 - val_loss: 0.5957 - val_accuracy: 0.7997 - lr: 1.0000e-04\n",
            "Epoch 77/100\n",
            "1563/1563 [==============================] - 9s 6ms/step - loss: 0.4518 - accuracy: 0.8412 - val_loss: 0.5941 - val_accuracy: 0.8021 - lr: 1.0000e-04\n",
            "Epoch 78/100\n",
            "1563/1563 [==============================] - 10s 6ms/step - loss: 0.4530 - accuracy: 0.8392 - val_loss: 0.5959 - val_accuracy: 0.7998 - lr: 1.0000e-04\n",
            "Epoch 79/100\n",
            "1563/1563 [==============================] - 9s 6ms/step - loss: 0.4491 - accuracy: 0.8392 - val_loss: 0.5931 - val_accuracy: 0.7959 - lr: 1.0000e-04\n",
            "Epoch 80/100\n",
            "1563/1563 [==============================] - 9s 6ms/step - loss: 0.4500 - accuracy: 0.8399 - val_loss: 0.5973 - val_accuracy: 0.7981 - lr: 1.0000e-04\n",
            "Epoch 81/100\n",
            "1563/1563 [==============================] - 9s 6ms/step - loss: 0.4502 - accuracy: 0.8410 - val_loss: 0.5930 - val_accuracy: 0.7993 - lr: 1.0000e-04\n",
            "Epoch 82/100\n",
            "1563/1563 [==============================] - 9s 6ms/step - loss: 0.4482 - accuracy: 0.8404 - val_loss: 0.5963 - val_accuracy: 0.7998 - lr: 1.0000e-04\n",
            "Epoch 83/100\n",
            "1563/1563 [==============================] - 9s 6ms/step - loss: 0.4441 - accuracy: 0.8426 - val_loss: 0.5950 - val_accuracy: 0.8010 - lr: 1.0000e-04\n",
            "Epoch 84/100\n",
            "1563/1563 [==============================] - 9s 6ms/step - loss: 0.4502 - accuracy: 0.8399 - val_loss: 0.5959 - val_accuracy: 0.8014 - lr: 1.0000e-04\n",
            "Epoch 85/100\n",
            "1563/1563 [==============================] - 9s 6ms/step - loss: 0.4460 - accuracy: 0.8412 - val_loss: 0.5984 - val_accuracy: 0.7986 - lr: 1.0000e-04\n",
            "Epoch 86/100\n",
            "1563/1563 [==============================] - 10s 6ms/step - loss: 0.4471 - accuracy: 0.8412 - val_loss: 0.5957 - val_accuracy: 0.8021 - lr: 1.0000e-04\n",
            "Epoch 87/100\n",
            "1563/1563 [==============================] - 10s 6ms/step - loss: 0.4452 - accuracy: 0.8424 - val_loss: 0.5985 - val_accuracy: 0.8002 - lr: 1.0000e-04\n",
            "Epoch 88/100\n",
            "1563/1563 [==============================] - 9s 6ms/step - loss: 0.4414 - accuracy: 0.8424 - val_loss: 0.5948 - val_accuracy: 0.7988 - lr: 1.0000e-04\n",
            "Epoch 89/100\n",
            "1563/1563 [==============================] - 9s 6ms/step - loss: 0.4369 - accuracy: 0.8461 - val_loss: 0.5958 - val_accuracy: 0.7990 - lr: 1.0000e-04\n",
            "Epoch 90/100\n",
            "1563/1563 [==============================] - 9s 6ms/step - loss: 0.4465 - accuracy: 0.8417 - val_loss: 0.5938 - val_accuracy: 0.7997 - lr: 1.0000e-04\n",
            "Epoch 91/100\n",
            "1563/1563 [==============================] - 9s 6ms/step - loss: 0.4449 - accuracy: 0.8414 - val_loss: 0.5967 - val_accuracy: 0.8001 - lr: 1.0000e-04\n",
            "Epoch 92/100\n",
            "1563/1563 [==============================] - 9s 6ms/step - loss: 0.4417 - accuracy: 0.8419 - val_loss: 0.6027 - val_accuracy: 0.7978 - lr: 1.0000e-04\n",
            "Epoch 93/100\n",
            "1563/1563 [==============================] - 8s 5ms/step - loss: 0.4413 - accuracy: 0.8441 - val_loss: 0.5937 - val_accuracy: 0.7982 - lr: 1.0000e-04\n",
            "Epoch 94/100\n",
            "1563/1563 [==============================] - 9s 6ms/step - loss: 0.4422 - accuracy: 0.8423 - val_loss: 0.5981 - val_accuracy: 0.7990 - lr: 1.0000e-04\n",
            "Epoch 95/100\n",
            "1563/1563 [==============================] - 9s 6ms/step - loss: 0.4344 - accuracy: 0.8444 - val_loss: 0.5956 - val_accuracy: 0.8013 - lr: 1.0000e-04\n",
            "Epoch 96/100\n",
            "1563/1563 [==============================] - 8s 5ms/step - loss: 0.4376 - accuracy: 0.8451 - val_loss: 0.5998 - val_accuracy: 0.7991 - lr: 1.0000e-04\n",
            "Epoch 97/100\n",
            "1563/1563 [==============================] - 9s 6ms/step - loss: 0.4368 - accuracy: 0.8434 - val_loss: 0.5928 - val_accuracy: 0.8019 - lr: 1.0000e-04\n",
            "Epoch 98/100\n",
            "1563/1563 [==============================] - 9s 6ms/step - loss: 0.4329 - accuracy: 0.8475 - val_loss: 0.6036 - val_accuracy: 0.8004 - lr: 1.0000e-04\n",
            "Epoch 99/100\n",
            "1563/1563 [==============================] - 9s 6ms/step - loss: 0.4304 - accuracy: 0.8462 - val_loss: 0.6091 - val_accuracy: 0.7965 - lr: 1.0000e-04\n",
            "Epoch 100/100\n",
            "1563/1563 [==============================] - 8s 5ms/step - loss: 0.4332 - accuracy: 0.8456 - val_loss: 0.6009 - val_accuracy: 0.7980 - lr: 1.0000e-04\n"
          ]
        }
      ]
    },
    {
      "cell_type": "code",
      "source": [
        "plot_history(history2)"
      ],
      "metadata": {
        "id": "PW6idnZbvcQD"
      },
      "execution_count": null,
      "outputs": []
    }
  ]
}